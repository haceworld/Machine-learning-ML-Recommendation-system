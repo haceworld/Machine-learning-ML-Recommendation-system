{
 "cells": [
  {
   "cell_type": "markdown",
   "metadata": {},
   "source": [
    "### Recommender System Based on XGBoost Regressor\n",
    "\n",
    "#### Import Library"
   ]
  },
  {
   "cell_type": "code",
   "execution_count": 1,
   "metadata": {},
   "outputs": [],
   "source": [
    "from datetime import datetime\n",
    "import pandas as pd\n",
    "import numpy as np\n",
    "import seaborn as sns\n",
    "import os\n",
    "import random\n",
    "import matplotlib\n",
    "import matplotlib.pyplot as plt\n",
    "from scipy import sparse\n",
    "from sklearn.metrics.pairwise import cosine_similarity\n",
    "from sklearn.metrics import mean_absolute_error, mean_squared_error, r2_score\n",
    "\n",
    "import xgboost as xgb"
   ]
  },
  {
   "cell_type": "code",
   "execution_count": null,
   "metadata": {},
   "outputs": [],
   "source": [
    "from surprise import Reader, Dataset\n",
    "from surprise import BaselineOnly\n",
    "from surprise import KNNBaseline\n",
    "from surprise import SVD\n",
    "from surprise import SVDpp\n",
    "from surprise.model_selection import GridSearchCV"
   ]
  },
  {
   "cell_type": "markdown",
   "metadata": {},
   "source": [
    "#### Load Data"
   ]
  },
  {
   "cell_type": "code",
   "execution_count": 2,
   "metadata": {},
   "outputs": [],
   "source": [
    "def load_data():\n",
    "    \n",
    "    netflix_csv_file = open(\"netflix_rating.csv\", mode = \"w\")\n",
    "    rating_files = ['combined_data_4.txt']\n",
    "    \n",
    "    for file in rating_files:\n",
    "        with open(file) as f:\n",
    "            \n",
    "            for line in f:\n",
    "                line = line.strip()\n",
    "                \n",
    "                if line.endswith(\":\"):\n",
    "                    movie_id = line.replace(\":\", \"\")\n",
    "                    \n",
    "                else:\n",
    "                    row_data = []\n",
    "                    row_data = [item for item in line.split(\",\")]\n",
    "                    row_data.insert(0, movie_id)\n",
    "                    netflix_csv_file.write(\",\".join(row_data))\n",
    "                    netflix_csv_file.write('\\n')\n",
    "\n",
    "    netflix_csv_file.close()\n",
    "    \n",
    "    df = pd.read_csv('netflix_rating.csv', sep=\",\", names = [\"movie_id\",\"customer_id\", \"rating\", \"date\"])\n",
    "    \n",
    "    return df"
   ]
  },
  {
   "cell_type": "markdown",
   "metadata": {},
   "source": [
    "#### Display Netflix Rating Data"
   ]
  },
  {
   "cell_type": "code",
   "execution_count": 3,
   "metadata": {},
   "outputs": [
    {
     "data": {
      "text/html": [
       "<div>\n",
       "<style scoped>\n",
       "    .dataframe tbody tr th:only-of-type {\n",
       "        vertical-align: middle;\n",
       "    }\n",
       "\n",
       "    .dataframe tbody tr th {\n",
       "        vertical-align: top;\n",
       "    }\n",
       "\n",
       "    .dataframe thead th {\n",
       "        text-align: right;\n",
       "    }\n",
       "</style>\n",
       "<table border=\"1\" class=\"dataframe\">\n",
       "  <thead>\n",
       "    <tr style=\"text-align: right;\">\n",
       "      <th></th>\n",
       "      <th>movie_id</th>\n",
       "      <th>customer_id</th>\n",
       "      <th>rating</th>\n",
       "      <th>date</th>\n",
       "    </tr>\n",
       "  </thead>\n",
       "  <tbody>\n",
       "    <tr>\n",
       "      <th>0</th>\n",
       "      <td>13368</td>\n",
       "      <td>2385003</td>\n",
       "      <td>4</td>\n",
       "      <td>2004-07-08</td>\n",
       "    </tr>\n",
       "    <tr>\n",
       "      <th>1</th>\n",
       "      <td>13368</td>\n",
       "      <td>659432</td>\n",
       "      <td>3</td>\n",
       "      <td>2005-03-16</td>\n",
       "    </tr>\n",
       "    <tr>\n",
       "      <th>2</th>\n",
       "      <td>13368</td>\n",
       "      <td>751812</td>\n",
       "      <td>2</td>\n",
       "      <td>2002-12-16</td>\n",
       "    </tr>\n",
       "    <tr>\n",
       "      <th>3</th>\n",
       "      <td>13368</td>\n",
       "      <td>2625420</td>\n",
       "      <td>2</td>\n",
       "      <td>2004-05-25</td>\n",
       "    </tr>\n",
       "    <tr>\n",
       "      <th>4</th>\n",
       "      <td>13368</td>\n",
       "      <td>1650301</td>\n",
       "      <td>1</td>\n",
       "      <td>2005-08-30</td>\n",
       "    </tr>\n",
       "  </tbody>\n",
       "</table>\n",
       "</div>"
      ],
      "text/plain": [
       "   movie_id  customer_id  rating        date\n",
       "0     13368      2385003       4  2004-07-08\n",
       "1     13368       659432       3  2005-03-16\n",
       "2     13368       751812       2  2002-12-16\n",
       "3     13368      2625420       2  2004-05-25\n",
       "4     13368      1650301       1  2005-08-30"
      ]
     },
     "execution_count": 3,
     "metadata": {},
     "output_type": "execute_result"
    }
   ],
   "source": [
    "netflix_rating_df = load_data()\n",
    "netflix_rating_df\n",
    "\n",
    "netflix_rating_df.head()"
   ]
  },
  {
   "cell_type": "markdown",
   "metadata": {},
   "source": [
    "#### Check for the duplicate records"
   ]
  },
  {
   "cell_type": "code",
   "execution_count": 4,
   "metadata": {},
   "outputs": [
    {
     "data": {
      "text/plain": [
       "0"
      ]
     },
     "execution_count": 4,
     "metadata": {},
     "output_type": "execute_result"
    }
   ],
   "source": [
    "netflix_rating_df.duplicated([\"movie_id\",\"customer_id\", \"rating\", \"date\"]).sum()"
   ]
  },
  {
   "cell_type": "markdown",
   "metadata": {},
   "source": [
    "#### Split Data into Train and Test Data - train_data = 80% & test_data = 20%"
   ]
  },
  {
   "cell_type": "code",
   "execution_count": 5,
   "metadata": {},
   "outputs": [],
   "source": [
    "split_value = int(len(netflix_rating_df) * 0.80)\n",
    "\n",
    "train_data = netflix_rating_df[:split_value]\n",
    "test_data = netflix_rating_df[split_value:]"
   ]
  },
  {
   "cell_type": "markdown",
   "metadata": {},
   "source": [
    "#### Analysis of Data: Count of Ratings - 1, 2, 3, 4, 5"
   ]
  },
  {
   "cell_type": "code",
   "execution_count": 6,
   "metadata": {},
   "outputs": [
    {
     "name": "stderr",
     "output_type": "stream",
     "text": [
      "c:\\users\\sanmilee\\appdata\\local\\programs\\python\\python36\\lib\\site-packages\\ipykernel_launcher.py:4: UserWarning: FixedFormatter should only be used together with FixedLocator\n",
      "  after removing the cwd from sys.path.\n"
     ]
    },
    {
     "data": {
      "image/png": "[encoded data removed]",
      "text/plain": [
       "<Figure size 720x432 with 1 Axes>"
      ]
     },
     "metadata": {
      "needs_background": "light"
     },
     "output_type": "display_data"
    }
   ],
   "source": [
    "plt.figure(figsize = (10, 6))\n",
    "ax = sns.countplot(x=\"rating\", data=train_data)\n",
    "\n",
    "ax.set_yticklabels([num for num in ax.get_yticks()])\n",
    "\n",
    "plt.tick_params(labelsize = 15)\n",
    "plt.title(\"Count Ratings in train data\", fontsize = 20)\n",
    "plt.xlabel(\"Ratings\", fontsize = 20)\n",
    "plt.ylabel(\"Number of Ratings\", fontsize = 20)\n",
    "plt.show()"
   ]
  },
  {
   "cell_type": "markdown",
   "metadata": {},
   "source": [
    "#### Create User-Item Sparse Matrix"
   ]
  },
  {
   "cell_type": "code",
   "execution_count": 7,
   "metadata": {},
   "outputs": [],
   "source": [
    "def get_user_item_sparse_matrix(df):\n",
    "    \n",
    "    sparse_data = sparse.csr_matrix((df.rating, (df.customer_id, df.movie_id)))\n",
    "    \n",
    "    return sparse_data"
   ]
  },
  {
   "cell_type": "code",
   "execution_count": 8,
   "metadata": {},
   "outputs": [],
   "source": [
    "# Create Sparse Matrix from the Training Dataset\n",
    "\n",
    "train_sparse_data = get_user_item_sparse_matrix(train_data)"
   ]
  },
  {
   "cell_type": "code",
   "execution_count": 9,
   "metadata": {},
   "outputs": [
    {
     "data": {
      "text/plain": [
       "(2649430, 16883)"
      ]
     },
     "execution_count": 9,
     "metadata": {},
     "output_type": "execute_result"
    }
   ],
   "source": [
    "train_sparse_data.shape"
   ]
  },
  {
   "cell_type": "code",
   "execution_count": 10,
   "metadata": {},
   "outputs": [],
   "source": [
    "# Create Sparse Matrix from the Test Dataset\n",
    "\n",
    "test_sparse_data = get_user_item_sparse_matrix(test_data)"
   ]
  },
  {
   "cell_type": "code",
   "execution_count": 11,
   "metadata": {},
   "outputs": [
    {
     "data": {
      "text/plain": [
       "(2649430, 17771)"
      ]
     },
     "execution_count": 11,
     "metadata": {},
     "output_type": "execute_result"
    }
   ],
   "source": [
    "test_sparse_data.shape"
   ]
  },
  {
   "cell_type": "markdown",
   "metadata": {},
   "source": [
    "#### Find Average Gloabal Rating of Movie"
   ]
  },
  {
   "cell_type": "code",
   "execution_count": 12,
   "metadata": {},
   "outputs": [
    {
     "name": "stdout",
     "output_type": "stream",
     "text": [
      "Global Average Rating: 3.6291294662291467\n"
     ]
    }
   ],
   "source": [
    "global_average_rating = train_sparse_data.sum()/train_sparse_data.count_nonzero()\n",
    "\n",
    "print(\"Global Average Rating: {}\".format(global_average_rating))"
   ]
  },
  {
   "cell_type": "markdown",
   "metadata": {},
   "source": [
    "#### Calculate Average Rating from Sparse Matrix"
   ]
  },
  {
   "cell_type": "code",
   "execution_count": 13,
   "metadata": {},
   "outputs": [],
   "source": [
    "def get_average_rating(sparse_matrix, is_user):\n",
    "    ax = 1 if is_user else 0\n",
    "    sum_of_ratings = sparse_matrix.sum(axis = ax).A1  \n",
    "    no_of_ratings = (sparse_matrix != 0).sum(axis = ax).A1 \n",
    "    rows, cols = sparse_matrix.shape\n",
    "    average_ratings = {i: sum_of_ratings[i]/no_of_ratings[i] for i in range(rows if is_user else cols) if no_of_ratings[i] != 0}\n",
    "    return average_ratings"
   ]
  },
  {
   "cell_type": "code",
   "execution_count": 14,
   "metadata": {},
   "outputs": [],
   "source": [
    "# Calculate Average User Rating\n",
    "\n",
    "average_rating_user = get_average_rating(train_sparse_data, True)"
   ]
  },
  {
   "cell_type": "code",
   "execution_count": 15,
   "metadata": {},
   "outputs": [],
   "source": [
    "# Calcualte Average Movie Rating\n",
    "\n",
    "avg_rating_movie = get_average_rating(train_sparse_data, False)"
   ]
  },
  {
   "cell_type": "markdown",
   "metadata": {},
   "source": [
    "#### Cold Start Problem \n",
    "- Check Cold Start Problem for Users\n",
    "- Here, 1% of total users are new and they will have no proper rating available. So, this can bring the issue of the cold start problems."
   ]
  },
  {
   "cell_type": "code",
   "execution_count": 16,
   "metadata": {},
   "outputs": [
    {
     "name": "stdout",
     "output_type": "stream",
     "text": [
      "Total no. of Users = 475601\n",
      "No. of Users in train data= 473014\n",
      "No. of Users not present in train data = 2587(1.0%)\n"
     ]
    }
   ],
   "source": [
    "total_users = len(np.unique(netflix_rating_df[\"customer_id\"]))\n",
    "train_users = len(average_rating_user)\n",
    "uncommonUsers = total_users - train_users\n",
    "             \n",
    "    \n",
    "print(\"Total no. of Users = {}\".format(total_users))\n",
    "print(\"No. of Users in train data= {}\".format(train_users))\n",
    "print(\"No. of Users not present in train data = {}({}%)\".format(uncommonUsers, np.round((uncommonUsers/total_users)*100), 2))"
   ]
  },
  {
   "cell_type": "markdown",
   "metadata": {},
   "source": [
    "#### Cold Start Problem\n",
    "- Check Cold Start Problem for the Movies\n",
    "- Here, 20% of total movies are new and their rating might not be available in the dataset. So, this can bring the issue of the cold start problems."
   ]
  },
  {
   "cell_type": "code",
   "execution_count": 17,
   "metadata": {},
   "outputs": [
    {
     "name": "stdout",
     "output_type": "stream",
     "text": [
      "Total no. of Movies = 4403\n",
      "No. of Movies in train data= 3515\n",
      "No. of Movies not present in train data = 888(20.0%)\n"
     ]
    }
   ],
   "source": [
    "total_movies = len(np.unique(netflix_rating_df[\"movie_id\"]))\n",
    "train_movies = len(avg_rating_movie)\n",
    "uncommonMovies = total_movies - train_movies\n",
    "     \n",
    "    \n",
    "print(\"Total no. of Movies = {}\".format(total_movies))\n",
    "print(\"No. of Movies in train data= {}\".format(train_movies))\n",
    "print(\"No. of Movies not present in train data = {}({}%)\".format(uncommonMovies, np.round((uncommonMovies/total_movies)*100), 2))"
   ]
  },
  {
   "cell_type": "markdown",
   "metadata": {},
   "source": [
    "#### Compute user similarity to find similarities of top 100 users"
   ]
  },
  {
   "cell_type": "code",
   "execution_count": 18,
   "metadata": {},
   "outputs": [],
   "source": [
    "def compute_user_similarity(sparse_matrix, limit=100):\n",
    "    row_index, col_index = sparse_matrix.nonzero()\n",
    "    rows = np.unique(row_index)\n",
    "    similar_arr = np.zeros(61700).reshape(617,100)\n",
    "    \n",
    "    for row in rows[:limit]:\n",
    "        sim = cosine_similarity(sparse_matrix.getrow(row), train_sparse_data).ravel()\n",
    "        similar_indices = sim.argsort()[-limit:]\n",
    "        similar = sim[similar_indices]\n",
    "        similar_arr[row] = similar\n",
    "    \n",
    "    return similar_arr"
   ]
  },
  {
   "cell_type": "code",
   "execution_count": 19,
   "metadata": {},
   "outputs": [],
   "source": [
    "similar_user_matrix = compute_user_similarity(train_sparse_data, 100)"
   ]
  },
  {
   "cell_type": "code",
   "execution_count": 20,
   "metadata": {},
   "outputs": [
    {
     "data": {
      "text/plain": [
       "array([0., 0., 0., 0., 0., 0., 0., 0., 0., 0., 0., 0., 0., 0., 0., 0., 0.,\n",
       "       0., 0., 0., 0., 0., 0., 0., 0., 0., 0., 0., 0., 0., 0., 0., 0., 0.,\n",
       "       0., 0., 0., 0., 0., 0., 0., 0., 0., 0., 0., 0., 0., 0., 0., 0., 0.,\n",
       "       0., 0., 0., 0., 0., 0., 0., 0., 0., 0., 0., 0., 0., 0., 0., 0., 0.,\n",
       "       0., 0., 0., 0., 0., 0., 0., 0., 0., 0., 0., 0., 0., 0., 0., 0., 0.,\n",
       "       0., 0., 0., 0., 0., 0., 0., 0., 0., 0., 0., 0., 0., 0., 0.])"
      ]
     },
     "execution_count": 20,
     "metadata": {},
     "output_type": "execute_result"
    }
   ],
   "source": [
    "similar_user_matrix[0]"
   ]
  },
  {
   "cell_type": "markdown",
   "metadata": {},
   "source": [
    "#### Load Movie Titles"
   ]
  },
  {
   "cell_type": "code",
   "execution_count": 21,
   "metadata": {},
   "outputs": [
    {
     "data": {
      "text/html": [
       "<div>\n",
       "<style scoped>\n",
       "    .dataframe tbody tr th:only-of-type {\n",
       "        vertical-align: middle;\n",
       "    }\n",
       "\n",
       "    .dataframe tbody tr th {\n",
       "        vertical-align: top;\n",
       "    }\n",
       "\n",
       "    .dataframe thead th {\n",
       "        text-align: right;\n",
       "    }\n",
       "</style>\n",
       "<table border=\"1\" class=\"dataframe\">\n",
       "  <thead>\n",
       "    <tr style=\"text-align: right;\">\n",
       "      <th></th>\n",
       "      <th>year_of_release</th>\n",
       "      <th>movie_title</th>\n",
       "    </tr>\n",
       "    <tr>\n",
       "      <th>movie_id</th>\n",
       "      <th></th>\n",
       "      <th></th>\n",
       "    </tr>\n",
       "  </thead>\n",
       "  <tbody>\n",
       "    <tr>\n",
       "      <th>1</th>\n",
       "      <td>2003.0</td>\n",
       "      <td>Dinosaur Planet</td>\n",
       "    </tr>\n",
       "    <tr>\n",
       "      <th>2</th>\n",
       "      <td>2004.0</td>\n",
       "      <td>Isle of Man TT 2004 Review</td>\n",
       "    </tr>\n",
       "    <tr>\n",
       "      <th>3</th>\n",
       "      <td>1997.0</td>\n",
       "      <td>Character</td>\n",
       "    </tr>\n",
       "    <tr>\n",
       "      <th>4</th>\n",
       "      <td>1994.0</td>\n",
       "      <td>Paula Abdul's Get Up &amp; Dance</td>\n",
       "    </tr>\n",
       "    <tr>\n",
       "      <th>5</th>\n",
       "      <td>2004.0</td>\n",
       "      <td>The Rise and Fall of ECW</td>\n",
       "    </tr>\n",
       "  </tbody>\n",
       "</table>\n",
       "</div>"
      ],
      "text/plain": [
       "          year_of_release                   movie_title\n",
       "movie_id                                               \n",
       "1                  2003.0               Dinosaur Planet\n",
       "2                  2004.0    Isle of Man TT 2004 Review\n",
       "3                  1997.0                     Character\n",
       "4                  1994.0  Paula Abdul's Get Up & Dance\n",
       "5                  2004.0      The Rise and Fall of ECW"
      ]
     },
     "execution_count": 21,
     "metadata": {},
     "output_type": "execute_result"
    }
   ],
   "source": [
    "movie_titles_df = pd.read_csv(\"movie_titles.csv\",sep = \",\",\n",
    "                              header = None, names=['movie_id', 'year_of_release', 'movie_title'],\n",
    "                              index_col = \"movie_id\", encoding = \"iso8859_2\")\n",
    "\n",
    "\n",
    "movie_titles_df.head()"
   ]
  },
  {
   "cell_type": "markdown",
   "metadata": {},
   "source": [
    "#### Compute Movie Similarity Matrix"
   ]
  },
  {
   "cell_type": "code",
   "execution_count": 22,
   "metadata": {},
   "outputs": [],
   "source": [
    "def compute_movie_similarity_count(sparse_matrix, movie_titles_df, movie_id):\n",
    "    \n",
    "    similarity = cosine_similarity(sparse_matrix.T, dense_output = False)\n",
    "    no_of_similar_movies = movie_titles_df.loc[movie_id][1], similarity[movie_id].count_nonzero()\n",
    "    \n",
    "    return no_of_similar_movies"
   ]
  },
  {
   "cell_type": "code",
   "execution_count": 23,
   "metadata": {},
   "outputs": [
    {
     "name": "stdout",
     "output_type": "stream",
     "text": [
      "Similar Movies = ('Dario Argento Collection: Vol. 1: Phenomena', 0)\n"
     ]
    }
   ],
   "source": [
    "similar_movies = compute_movie_similarity_count(train_sparse_data, movie_titles_df, 1775)\n",
    "\n",
    "print(\"Similar Movies = {}\".format(similar_movies))"
   ]
  },
  {
   "cell_type": "markdown",
   "metadata": {},
   "source": [
    "#### Create Sample Sparse Matrix\n",
    "- This method will be used to generate Sample Sparse Matrix. New similarity features will be generated from this sample sparse matrix."
   ]
  },
  {
   "cell_type": "code",
   "execution_count": 24,
   "metadata": {},
   "outputs": [],
   "source": [
    "def get_sample_sparse_matrix(sparse_matrix, no_of_users, no_of_movies):\n",
    "    users, movies, ratings = sparse.find(sparse_matrix)\n",
    "    uniq_users = np.unique(users)\n",
    "    uniq_movies = np.unique(movies)\n",
    "    np.random.seed(15) \n",
    "    user = np.random.choice(uniq_users, no_of_users, replace = False)\n",
    "    movie = np.random.choice(uniq_movies, no_of_movies, replace = True)\n",
    "    mask = np.logical_and(np.isin(users, user), np.isin(movies, movie))\n",
    "    sparse_matrix = sparse.csr_matrix((ratings[mask], (users[mask], movies[mask])), \n",
    "                                                     shape = (max(user)+1, max(movie)+1))\n",
    "    return sparse_matrix"
   ]
  },
  {
   "cell_type": "markdown",
   "metadata": {},
   "source": [
    "#### Sample Sparse Matrix for the Traning Data"
   ]
  },
  {
   "cell_type": "code",
   "execution_count": 25,
   "metadata": {},
   "outputs": [],
   "source": [
    "train_sample_sparse_matrix = get_sample_sparse_matrix(train_sparse_data, 400, 40)"
   ]
  },
  {
   "cell_type": "markdown",
   "metadata": {},
   "source": [
    "#### Sample Sparse Matrix for the Test Data"
   ]
  },
  {
   "cell_type": "code",
   "execution_count": 26,
   "metadata": {},
   "outputs": [],
   "source": [
    "test_sparse_matrix_matrix = get_sample_sparse_matrix(test_sparse_data, 200, 20)"
   ]
  },
  {
   "cell_type": "markdown",
   "metadata": {},
   "source": [
    "#### A Generic Method to Generate Similar Featuires: This will generate below similar features:\n",
    "\n",
    "- similar_user_rating1\n",
    "- similar_user_rating2\n",
    "- similar_user_rating3\n",
    "- similar_user_rating4\n",
    "- similar_user_rating5\n",
    "- similar_movie_rating1\n",
    "- similar_movie_rating2\n",
    "- similar_movie_rating3\n",
    "- similar_movie_rating4\n",
    "- similar_movie_rating5"
   ]
  },
  {
   "cell_type": "code",
   "execution_count": 27,
   "metadata": {},
   "outputs": [],
   "source": [
    "def create_new_similar_features(sample_sparse_matrix):\n",
    "    global_avg_rating = get_average_rating(sample_sparse_matrix, False)\n",
    "    global_avg_users = get_average_rating(sample_sparse_matrix, True)\n",
    "    global_avg_movies = get_average_rating(sample_sparse_matrix, False)\n",
    "    sample_train_users, sample_train_movies, sample_train_ratings = sparse.find(sample_sparse_matrix)\n",
    "    new_features_csv_file = open(\"new_features.csv\", mode = \"w\")\n",
    "    \n",
    "    for user, movie, rating in zip(sample_train_users, sample_train_movies, sample_train_ratings):\n",
    "        similar_arr = list()\n",
    "        similar_arr.append(user)\n",
    "        similar_arr.append(movie)\n",
    "        similar_arr.append(sample_sparse_matrix.sum()/sample_sparse_matrix.count_nonzero())\n",
    "        \n",
    "        similar_users = cosine_similarity(sample_sparse_matrix[user], sample_sparse_matrix).ravel()\n",
    "        indices = np.argsort(-similar_users)[1:]\n",
    "        ratings = sample_sparse_matrix[indices, movie].toarray().ravel()\n",
    "        top_similar_user_ratings = list(ratings[ratings != 0][:5])\n",
    "        top_similar_user_ratings.extend([global_avg_rating[movie]] * (5 - len(ratings)))\n",
    "        similar_arr.extend(top_similar_user_ratings)\n",
    "        \n",
    "        similar_movies = cosine_similarity(sample_sparse_matrix[:,movie].T, sample_sparse_matrix.T).ravel()\n",
    "        similar_movies_indices = np.argsort(-similar_movies)[1:]\n",
    "        similar_movies_ratings = sample_sparse_matrix[user, similar_movies_indices].toarray().ravel()\n",
    "        top_similar_movie_ratings = list(similar_movies_ratings[similar_movies_ratings != 0][:5])\n",
    "        top_similar_movie_ratings.extend([global_avg_users[user]] * (5-len(top_similar_movie_ratings)))\n",
    "        similar_arr.extend(top_similar_movie_ratings)\n",
    "        \n",
    "        similar_arr.append(global_avg_users[user])\n",
    "        similar_arr.append(global_avg_movies[movie])\n",
    "        similar_arr.append(rating)\n",
    "        \n",
    "        new_features_csv_file.write(\",\".join(map(str, similar_arr)))\n",
    "        new_features_csv_file.write(\"\\n\")\n",
    "        \n",
    "        \n",
    "    new_features_csv_file.close()\n",
    "    \n",
    "    new_features_df = pd.read_csv('new_features.csv', names = [\"user_id\", \"movie_id\", \"gloabl_average\", \"similar_user_rating1\", \n",
    "                                                               \"similar_user_rating2\", \"similar_user_rating3\", \n",
    "                                                               \"similar_user_rating4\", \"similar_user_rating5\", \n",
    "                                                               \"similar_movie_rating1\", \"similar_movie_rating2\", \n",
    "                                                               \"similar_movie_rating3\", \"similar_movie_rating4\", \n",
    "                                                               \"similar_movie_rating5\", \"user_average\", \n",
    "                                                               \"movie_average\", \"rating\"])\n",
    "    \n",
    "    return new_features_df\n",
    "            "
   ]
  },
  {
   "cell_type": "markdown",
   "metadata": {},
   "source": [
    "#### Generate Similar Features for the Training Data"
   ]
  },
  {
   "cell_type": "code",
   "execution_count": 28,
   "metadata": {},
   "outputs": [],
   "source": [
    "train_new_similar_features = create_new_similar_features(train_sample_sparse_matrix)"
   ]
  },
  {
   "cell_type": "code",
   "execution_count": 29,
   "metadata": {},
   "outputs": [
    {
     "data": {
      "text/html": [
       "<div>\n",
       "<style scoped>\n",
       "    .dataframe tbody tr th:only-of-type {\n",
       "        vertical-align: middle;\n",
       "    }\n",
       "\n",
       "    .dataframe tbody tr th {\n",
       "        vertical-align: top;\n",
       "    }\n",
       "\n",
       "    .dataframe thead th {\n",
       "        text-align: right;\n",
       "    }\n",
       "</style>\n",
       "<table border=\"1\" class=\"dataframe\">\n",
       "  <thead>\n",
       "    <tr style=\"text-align: right;\">\n",
       "      <th></th>\n",
       "      <th>user_id</th>\n",
       "      <th>movie_id</th>\n",
       "      <th>gloabl_average</th>\n",
       "      <th>similar_user_rating1</th>\n",
       "      <th>similar_user_rating2</th>\n",
       "      <th>similar_user_rating3</th>\n",
       "      <th>similar_user_rating4</th>\n",
       "      <th>similar_user_rating5</th>\n",
       "      <th>similar_movie_rating1</th>\n",
       "      <th>similar_movie_rating2</th>\n",
       "      <th>similar_movie_rating3</th>\n",
       "      <th>similar_movie_rating4</th>\n",
       "      <th>similar_movie_rating5</th>\n",
       "      <th>user_average</th>\n",
       "      <th>movie_average</th>\n",
       "      <th>rating</th>\n",
       "    </tr>\n",
       "  </thead>\n",
       "  <tbody>\n",
       "    <tr>\n",
       "      <th>0</th>\n",
       "      <td>368756</td>\n",
       "      <td>13393</td>\n",
       "      <td>3.392157</td>\n",
       "      <td>4.0</td>\n",
       "      <td>4.0</td>\n",
       "      <td>4.0</td>\n",
       "      <td>4.0</td>\n",
       "      <td>4.0</td>\n",
       "      <td>4.0</td>\n",
       "      <td>4.0</td>\n",
       "      <td>4.0</td>\n",
       "      <td>0.0</td>\n",
       "      <td>0.0</td>\n",
       "      <td>0.0</td>\n",
       "      <td>0.0</td>\n",
       "      <td>0.0</td>\n",
       "    </tr>\n",
       "    <tr>\n",
       "      <th>1</th>\n",
       "      <td>2593137</td>\n",
       "      <td>13495</td>\n",
       "      <td>3.392157</td>\n",
       "      <td>4.0</td>\n",
       "      <td>4.0</td>\n",
       "      <td>4.0</td>\n",
       "      <td>4.0</td>\n",
       "      <td>4.0</td>\n",
       "      <td>4.0</td>\n",
       "      <td>4.0</td>\n",
       "      <td>4.0</td>\n",
       "      <td>0.0</td>\n",
       "      <td>0.0</td>\n",
       "      <td>0.0</td>\n",
       "      <td>0.0</td>\n",
       "      <td>0.0</td>\n",
       "    </tr>\n",
       "    <tr>\n",
       "      <th>2</th>\n",
       "      <td>96842</td>\n",
       "      <td>13602</td>\n",
       "      <td>3.392157</td>\n",
       "      <td>3.0</td>\n",
       "      <td>5.0</td>\n",
       "      <td>5.0</td>\n",
       "      <td>5.0</td>\n",
       "      <td>5.0</td>\n",
       "      <td>5.0</td>\n",
       "      <td>5.0</td>\n",
       "      <td>5.0</td>\n",
       "      <td>5.0</td>\n",
       "      <td>4.5</td>\n",
       "      <td>5.0</td>\n",
       "      <td>0.0</td>\n",
       "      <td>0.0</td>\n",
       "    </tr>\n",
       "    <tr>\n",
       "      <th>3</th>\n",
       "      <td>486048</td>\n",
       "      <td>13602</td>\n",
       "      <td>3.392157</td>\n",
       "      <td>3.0</td>\n",
       "      <td>5.0</td>\n",
       "      <td>5.0</td>\n",
       "      <td>3.0</td>\n",
       "      <td>3.0</td>\n",
       "      <td>3.0</td>\n",
       "      <td>3.0</td>\n",
       "      <td>3.0</td>\n",
       "      <td>3.0</td>\n",
       "      <td>4.5</td>\n",
       "      <td>3.0</td>\n",
       "      <td>0.0</td>\n",
       "      <td>0.0</td>\n",
       "    </tr>\n",
       "    <tr>\n",
       "      <th>4</th>\n",
       "      <td>940434</td>\n",
       "      <td>13602</td>\n",
       "      <td>3.392157</td>\n",
       "      <td>3.0</td>\n",
       "      <td>5.0</td>\n",
       "      <td>5.0</td>\n",
       "      <td>5.0</td>\n",
       "      <td>5.0</td>\n",
       "      <td>5.0</td>\n",
       "      <td>5.0</td>\n",
       "      <td>5.0</td>\n",
       "      <td>5.0</td>\n",
       "      <td>4.5</td>\n",
       "      <td>5.0</td>\n",
       "      <td>0.0</td>\n",
       "      <td>0.0</td>\n",
       "    </tr>\n",
       "  </tbody>\n",
       "</table>\n",
       "</div>"
      ],
      "text/plain": [
       "   user_id  movie_id  gloabl_average  similar_user_rating1  \\\n",
       "0   368756     13393        3.392157                   4.0   \n",
       "1  2593137     13495        3.392157                   4.0   \n",
       "2    96842     13602        3.392157                   3.0   \n",
       "3   486048     13602        3.392157                   3.0   \n",
       "4   940434     13602        3.392157                   3.0   \n",
       "\n",
       "   similar_user_rating2  similar_user_rating3  similar_user_rating4  \\\n",
       "0                   4.0                   4.0                   4.0   \n",
       "1                   4.0                   4.0                   4.0   \n",
       "2                   5.0                   5.0                   5.0   \n",
       "3                   5.0                   5.0                   3.0   \n",
       "4                   5.0                   5.0                   5.0   \n",
       "\n",
       "   similar_user_rating5  similar_movie_rating1  similar_movie_rating2  \\\n",
       "0                   4.0                    4.0                    4.0   \n",
       "1                   4.0                    4.0                    4.0   \n",
       "2                   5.0                    5.0                    5.0   \n",
       "3                   3.0                    3.0                    3.0   \n",
       "4                   5.0                    5.0                    5.0   \n",
       "\n",
       "   similar_movie_rating3  similar_movie_rating4  similar_movie_rating5  \\\n",
       "0                    4.0                    0.0                    0.0   \n",
       "1                    4.0                    0.0                    0.0   \n",
       "2                    5.0                    5.0                    4.5   \n",
       "3                    3.0                    3.0                    4.5   \n",
       "4                    5.0                    5.0                    4.5   \n",
       "\n",
       "   user_average  movie_average  rating  \n",
       "0           0.0            0.0     0.0  \n",
       "1           0.0            0.0     0.0  \n",
       "2           5.0            0.0     0.0  \n",
       "3           3.0            0.0     0.0  \n",
       "4           5.0            0.0     0.0  "
      ]
     },
     "execution_count": 29,
     "metadata": {},
     "output_type": "execute_result"
    }
   ],
   "source": [
    "train_new_similar_features = train_new_similar_features.fillna(0)\n",
    "\n",
    "train_new_similar_features.head()"
   ]
  },
  {
   "cell_type": "markdown",
   "metadata": {},
   "source": [
    "#### Generate Similar Features for the Test Data"
   ]
  },
  {
   "cell_type": "code",
   "execution_count": 30,
   "metadata": {},
   "outputs": [],
   "source": [
    "test_new_similar_features = create_new_similar_features(test_sparse_matrix_matrix)"
   ]
  },
  {
   "cell_type": "code",
   "execution_count": 31,
   "metadata": {},
   "outputs": [
    {
     "data": {
      "text/html": [
       "<div>\n",
       "<style scoped>\n",
       "    .dataframe tbody tr th:only-of-type {\n",
       "        vertical-align: middle;\n",
       "    }\n",
       "\n",
       "    .dataframe tbody tr th {\n",
       "        vertical-align: top;\n",
       "    }\n",
       "\n",
       "    .dataframe thead th {\n",
       "        text-align: right;\n",
       "    }\n",
       "</style>\n",
       "<table border=\"1\" class=\"dataframe\">\n",
       "  <thead>\n",
       "    <tr style=\"text-align: right;\">\n",
       "      <th></th>\n",
       "      <th>user_id</th>\n",
       "      <th>movie_id</th>\n",
       "      <th>gloabl_average</th>\n",
       "      <th>similar_user_rating1</th>\n",
       "      <th>similar_user_rating2</th>\n",
       "      <th>similar_user_rating3</th>\n",
       "      <th>similar_user_rating4</th>\n",
       "      <th>similar_user_rating5</th>\n",
       "      <th>similar_movie_rating1</th>\n",
       "      <th>similar_movie_rating2</th>\n",
       "      <th>similar_movie_rating3</th>\n",
       "      <th>similar_movie_rating4</th>\n",
       "      <th>similar_movie_rating5</th>\n",
       "      <th>user_average</th>\n",
       "      <th>movie_average</th>\n",
       "      <th>rating</th>\n",
       "    </tr>\n",
       "  </thead>\n",
       "  <tbody>\n",
       "    <tr>\n",
       "      <th>0</th>\n",
       "      <td>218348</td>\n",
       "      <td>16977</td>\n",
       "      <td>3.393939</td>\n",
       "      <td>4</td>\n",
       "      <td>1.0</td>\n",
       "      <td>5.0</td>\n",
       "      <td>4.0</td>\n",
       "      <td>3.0</td>\n",
       "      <td>5.0</td>\n",
       "      <td>5.0</td>\n",
       "      <td>5.000000</td>\n",
       "      <td>5.000000</td>\n",
       "      <td>5.000000</td>\n",
       "      <td>5.000000</td>\n",
       "      <td>3.583333</td>\n",
       "      <td>5.0</td>\n",
       "    </tr>\n",
       "    <tr>\n",
       "      <th>1</th>\n",
       "      <td>482111</td>\n",
       "      <td>16977</td>\n",
       "      <td>3.393939</td>\n",
       "      <td>4</td>\n",
       "      <td>1.0</td>\n",
       "      <td>5.0</td>\n",
       "      <td>4.0</td>\n",
       "      <td>3.0</td>\n",
       "      <td>3.0</td>\n",
       "      <td>3.0</td>\n",
       "      <td>3.000000</td>\n",
       "      <td>3.000000</td>\n",
       "      <td>3.000000</td>\n",
       "      <td>3.000000</td>\n",
       "      <td>3.583333</td>\n",
       "      <td>3.0</td>\n",
       "    </tr>\n",
       "    <tr>\n",
       "      <th>2</th>\n",
       "      <td>770495</td>\n",
       "      <td>16977</td>\n",
       "      <td>3.393939</td>\n",
       "      <td>4</td>\n",
       "      <td>1.0</td>\n",
       "      <td>5.0</td>\n",
       "      <td>4.0</td>\n",
       "      <td>3.0</td>\n",
       "      <td>4.0</td>\n",
       "      <td>4.0</td>\n",
       "      <td>4.000000</td>\n",
       "      <td>4.000000</td>\n",
       "      <td>4.000000</td>\n",
       "      <td>4.000000</td>\n",
       "      <td>3.583333</td>\n",
       "      <td>4.0</td>\n",
       "    </tr>\n",
       "    <tr>\n",
       "      <th>3</th>\n",
       "      <td>1033930</td>\n",
       "      <td>16977</td>\n",
       "      <td>3.393939</td>\n",
       "      <td>2</td>\n",
       "      <td>1.0</td>\n",
       "      <td>3.0</td>\n",
       "      <td>4.0</td>\n",
       "      <td>4.0</td>\n",
       "      <td>3.0</td>\n",
       "      <td>2.0</td>\n",
       "      <td>2.666667</td>\n",
       "      <td>2.666667</td>\n",
       "      <td>2.666667</td>\n",
       "      <td>2.666667</td>\n",
       "      <td>3.583333</td>\n",
       "      <td>3.0</td>\n",
       "    </tr>\n",
       "    <tr>\n",
       "      <th>4</th>\n",
       "      <td>1301848</td>\n",
       "      <td>16977</td>\n",
       "      <td>3.393939</td>\n",
       "      <td>4</td>\n",
       "      <td>1.0</td>\n",
       "      <td>5.0</td>\n",
       "      <td>4.0</td>\n",
       "      <td>3.0</td>\n",
       "      <td>4.0</td>\n",
       "      <td>4.0</td>\n",
       "      <td>4.000000</td>\n",
       "      <td>4.000000</td>\n",
       "      <td>4.000000</td>\n",
       "      <td>4.000000</td>\n",
       "      <td>3.583333</td>\n",
       "      <td>4.0</td>\n",
       "    </tr>\n",
       "  </tbody>\n",
       "</table>\n",
       "</div>"
      ],
      "text/plain": [
       "   user_id  movie_id  gloabl_average  similar_user_rating1  \\\n",
       "0   218348     16977        3.393939                     4   \n",
       "1   482111     16977        3.393939                     4   \n",
       "2   770495     16977        3.393939                     4   \n",
       "3  1033930     16977        3.393939                     2   \n",
       "4  1301848     16977        3.393939                     4   \n",
       "\n",
       "   similar_user_rating2  similar_user_rating3  similar_user_rating4  \\\n",
       "0                   1.0                   5.0                   4.0   \n",
       "1                   1.0                   5.0                   4.0   \n",
       "2                   1.0                   5.0                   4.0   \n",
       "3                   1.0                   3.0                   4.0   \n",
       "4                   1.0                   5.0                   4.0   \n",
       "\n",
       "   similar_user_rating5  similar_movie_rating1  similar_movie_rating2  \\\n",
       "0                   3.0                    5.0                    5.0   \n",
       "1                   3.0                    3.0                    3.0   \n",
       "2                   3.0                    4.0                    4.0   \n",
       "3                   4.0                    3.0                    2.0   \n",
       "4                   3.0                    4.0                    4.0   \n",
       "\n",
       "   similar_movie_rating3  similar_movie_rating4  similar_movie_rating5  \\\n",
       "0               5.000000               5.000000               5.000000   \n",
       "1               3.000000               3.000000               3.000000   \n",
       "2               4.000000               4.000000               4.000000   \n",
       "3               2.666667               2.666667               2.666667   \n",
       "4               4.000000               4.000000               4.000000   \n",
       "\n",
       "   user_average  movie_average  rating  \n",
       "0      5.000000       3.583333     5.0  \n",
       "1      3.000000       3.583333     3.0  \n",
       "2      4.000000       3.583333     4.0  \n",
       "3      2.666667       3.583333     3.0  \n",
       "4      4.000000       3.583333     4.0  "
      ]
     },
     "execution_count": 31,
     "metadata": {},
     "output_type": "execute_result"
    }
   ],
   "source": [
    "test_new_similar_features = test_new_similar_features.fillna(0)\n",
    "\n",
    "test_new_similar_features.head()"
   ]
  },
  {
   "cell_type": "markdown",
   "metadata": {},
   "source": [
    "#### Building Machine Learning Model\n",
    "\n",
    "- Create Data"
   ]
  },
  {
   "cell_type": "code",
   "execution_count": 32,
   "metadata": {},
   "outputs": [],
   "source": [
    "x_train = train_new_similar_features.drop([\"user_id\", \"movie_id\", \"rating\"], axis = 1)\n",
    "\n",
    "x_test = test_new_similar_features.drop([\"user_id\", \"movie_id\", \"rating\"], axis = 1)\n",
    "\n",
    "y_train = train_new_similar_features[\"rating\"]\n",
    "\n",
    "y_test = test_new_similar_features[\"rating\"]"
   ]
  },
  {
   "cell_type": "markdown",
   "metadata": {},
   "source": [
    "#### Define `mean_squared_error` as metrics"
   ]
  },
  {
   "cell_type": "code",
   "execution_count": 33,
   "metadata": {},
   "outputs": [],
   "source": [
    "def error_metrics(y_true, y_pred):\n",
    "    rmse = np.sqrt(mean_squared_error(y_true, y_pred))\n",
    "    return rmse"
   ]
  },
  {
   "cell_type": "markdown",
   "metadata": {},
   "source": [
    "#### Define XGBoot Regressor Model"
   ]
  },
  {
   "cell_type": "code",
   "execution_count": 34,
   "metadata": {},
   "outputs": [
    {
     "name": "stdout",
     "output_type": "stream",
     "text": [
      "[23:02:10] WARNING: C:\\Users\\Administrator\\workspace\\xgboost-win64_release_1.2.0\\src\\learner.cc:516: \n",
      "Parameters: { silent } might not be used.\n",
      "\n",
      "  This may not be accurate due to some parameters are only used in language bindings but\n",
      "  passed down to XGBoost core.  Or some parameters are not used but slip through this\n",
      "  verification. Please open an issue if you find above cases.\n",
      "\n",
      "\n"
     ]
    },
    {
     "data": {
      "text/plain": [
       "XGBRegressor(base_score=0.5, booster='gbtree', colsample_bylevel=1,\n",
       "             colsample_bynode=1, colsample_bytree=1, gamma=0, gpu_id=-1,\n",
       "             importance_type='gain', interaction_constraints='',\n",
       "             learning_rate=0.300000012, max_delta_step=0, max_depth=6,\n",
       "             min_child_weight=1, missing=nan, monotone_constraints='()',\n",
       "             n_estimators=100, n_jobs=10, num_parallel_tree=1, random_state=0,\n",
       "             reg_alpha=0, reg_lambda=1, scale_pos_weight=1, silent=False,\n",
       "             subsample=1, tree_method='exact', validate_parameters=1,\n",
       "             verbosity=None)"
      ]
     },
     "execution_count": 34,
     "metadata": {},
     "output_type": "execute_result"
    }
   ],
   "source": [
    "clf = xgb.XGBRegressor(n_estimators = 100, silent = False, n_jobs = 10)\n",
    "\n",
    "clf.fit(x_train, y_train)"
   ]
  },
  {
   "cell_type": "markdown",
   "metadata": {},
   "source": [
    "#### Check Model Performance on Test Set"
   ]
  },
  {
   "cell_type": "code",
   "execution_count": 35,
   "metadata": {},
   "outputs": [],
   "source": [
    "y_pred_test = clf.predict(x_test)"
   ]
  },
  {
   "cell_type": "code",
   "execution_count": 36,
   "metadata": {},
   "outputs": [
    {
     "name": "stdout",
     "output_type": "stream",
     "text": [
      "MAE: 0.1913\n",
      "\n",
      "MSE: 0.2074\n",
      "\n",
      "RMSE: 0.4554\n",
      "\n",
      "R2 Error: 0.9342\n"
     ]
    }
   ],
   "source": [
    "print(\"MAE: {:.4f}\".format(mean_absolute_error(y_test, y_pred_test)))\n",
    "print()\n",
    "print(\"MSE: {:.4f}\".format(mean_squared_error(y_test, y_pred_test)))\n",
    "print()\n",
    "print(\"RMSE: {:.4f}\".format(error_metrics(y_test, y_pred_test)))\n",
    "print()\n",
    "print(\"R2 Error: {:.4f}\".format(r2_score(y_test, y_pred_test)))"
   ]
  },
  {
   "cell_type": "markdown",
   "metadata": {},
   "source": [
    "#### Plot Feature Importance"
   ]
  },
  {
   "cell_type": "code",
   "execution_count": 37,
   "metadata": {},
   "outputs": [],
   "source": [
    "def plot_importance(model, clf):\n",
    "    fig = plt.figure(figsize = (8, 6))\n",
    "    ax = fig.add_axes([0,0,1,1])\n",
    "    model.plot_importance(clf, ax = ax, height = 0.3)\n",
    "    plt.xlabel(\"F Score\", fontsize = 20)\n",
    "    plt.ylabel(\"Features\", fontsize = 20)\n",
    "    plt.title(\"Feature Importance\", fontsize = 20)\n",
    "    plt.tick_params(labelsize = 15)\n",
    "    \n",
    "    plt.show()"
   ]
  },
  {
   "cell_type": "code",
   "execution_count": 38,
   "metadata": {},
   "outputs": [
    {
     "data": {
      "image/png": "[encoded data removed]",
      "text/plain": [
       "<Figure size 576x432 with 1 Axes>"
      ]
     },
     "metadata": {
      "needs_background": "light"
     },
     "output_type": "display_data"
    }
   ],
   "source": [
    "plot_importance(xgb, clf)"
   ]
  },
  {
   "cell_type": "code",
   "execution_count": null,
   "metadata": {},
   "outputs": [],
   "source": []
  },
  {
   "cell_type": "code",
   "execution_count": null,
   "metadata": {},
   "outputs": [],
   "source": []
  },
  {
   "cell_type": "code",
   "execution_count": null,
   "metadata": {},
   "outputs": [],
   "source": []
  }
 ],
 "metadata": {
  "kernelspec": {
   "display_name": "Python 3",
   "language": "python",
   "name": "python3"
  },
  "language_info": {
   "codemirror_mode": {
    "name": "ipython",
    "version": 3
   },
   "file_extension": ".py",
   "mimetype": "text/x-python",
   "name": "python",
   "nbconvert_exporter": "python",
   "pygments_lexer": "ipython3",
   "version": "3.6.7"
  }
 },
 "nbformat": 4,
 "nbformat_minor": 4
}
